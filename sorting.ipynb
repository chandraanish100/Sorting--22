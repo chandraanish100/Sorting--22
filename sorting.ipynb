{
 "cells": [
  {
   "cell_type": "code",
   "execution_count": 5,
   "id": "87d68e56-f7b8-4fcf-85fd-4706314e75c7",
   "metadata": {},
   "outputs": [],
   "source": [
    "def find_max_occuring_element(arr):\n",
    "    \n",
    "    \n",
    " \n",
    "    frequency = {}\n",
    "    for element in arr:\n",
    "        if element in frequency:\n",
    "              frequency[element] += 1\n",
    "        else:\n",
    "              frequency[element] = 1\n",
    "\n",
    "  # Find the element with the maximum frequency\n",
    "    max_frequency = 0\n",
    "    max_element = None\n",
    "    for element, count in frequency.items():\n",
    "        if count > max_frequency:\n",
    "            max_frequency = count\n",
    "            max_element = element\n",
    "\n",
    "    return max_element"
   ]
  },
  {
   "cell_type": "code",
   "execution_count": 6,
   "id": "f295c4a3-90d2-4cd8-ae8c-03a7bfcc8548",
   "metadata": {},
   "outputs": [
    {
     "data": {
      "text/plain": [
       "24"
      ]
     },
     "execution_count": 6,
     "metadata": {},
     "output_type": "execute_result"
    }
   ],
   "source": [
    "find_max_occuring_element([24,24,2432,435353,535,35,353])"
   ]
  },
  {
   "cell_type": "code",
   "execution_count": 7,
   "id": "2864b33e-b04f-40bb-9b50-8896235053e5",
   "metadata": {},
   "outputs": [
    {
     "name": "stdout",
     "output_type": "stream",
     "text": [
      "The missing number is: 5\n"
     ]
    }
   ],
   "source": [
    "def find_missing_number(arr):\n",
    "    n = len(arr) + 1  # Since the array has n-1 elements, the missing number is in the range 1 to n\n",
    "\n",
    "    # Calculate the expected sum of the first n natural numbers\n",
    "    expected_sum = n * (n + 1) // 2\n",
    "\n",
    "    # Calculate the actual sum of the elements in the array\n",
    "    actual_sum = 0\n",
    "    for num in arr:\n",
    "        actual_sum += num\n",
    "\n",
    "    # The missing number is the difference between expected and actual sum\n",
    "    missing_number = expected_sum - actual_sum\n",
    "    return missing_number\n",
    "\n",
    "# Example usage\n",
    "arr = [1, 2, 4, 6, 3, 7, 8]\n",
    "missing_num = find_missing_number(arr)\n",
    "print(\"The missing number is:\", missing_num)  # Output: The missing number is: 5"
   ]
  },
  {
   "cell_type": "code",
   "execution_count": 8,
   "id": "4a19b248-6f28-4ea7-8ce7-ce3ec4ca1e9a",
   "metadata": {},
   "outputs": [
    {
     "name": "stdout",
     "output_type": "stream",
     "text": [
      "The number occurring odd times is: 3\n"
     ]
    }
   ],
   "source": [
    "def find_odd_occurring_number(arr):\n",
    "    result = 0\n",
    "    for num in arr:\n",
    "        result ^= num\n",
    "    return result\n",
    "\n",
    "# Example usage\n",
    "arr = [1, 2, 3, 2, 3, 1, 3]\n",
    "odd_occurring_num = find_odd_occurring_number(arr)\n",
    "print(\"The number occurring odd times is:\", odd_occurring_num)  # Output: The number occurring odd times is: 3"
   ]
  },
  {
   "cell_type": "code",
   "execution_count": 9,
   "id": "c67b664e-afd9-43ab-823d-4063f5663326",
   "metadata": {},
   "outputs": [
    {
     "name": "stdout",
     "output_type": "stream",
     "text": [
      "Pair found at indices: [3, 4]\n"
     ]
    }
   ],
   "source": [
    "def find_pair_sum_to_k(arr, k):\n",
    "    # Create a hash table to store elements and their indices\n",
    "    element_dict = {}\n",
    "\n",
    "    # Iterate through the array\n",
    "    for i, num in enumerate(arr):\n",
    "        # Calculate the complement\n",
    "        complement = k - num\n",
    "        \n",
    "        # Check if the complement exists in the hash table\n",
    "        if complement in element_dict:\n",
    "            # Return the indices of the pair\n",
    "            return [element_dict[complement], i]\n",
    "        \n",
    "        # Add the current element and its index to the hash table\n",
    "        element_dict[num] = i\n",
    "    \n",
    "    # If no pair is found, return an empty list\n",
    "    return []\n",
    "\n",
    "# Example usage\n",
    "arr = [1, 4, 45, 6, 10, 8]\n",
    "k = 16\n",
    "result = find_pair_sum_to_k(arr, k)\n",
    "if result:\n",
    "    print(\"Pair found at indices:\", result)\n",
    "else:\n",
    "    print(\"Pair not found\")"
   ]
  },
  {
   "cell_type": "code",
   "execution_count": 12,
   "id": "d7523100-462a-4f7e-9fdf-37ba44e1a3ae",
   "metadata": {},
   "outputs": [
    {
     "name": "stdout",
     "output_type": "stream",
     "text": [
      "The two numbers whose sum is closest to zero are: (-80, 85)\n"
     ]
    }
   ],
   "source": [
    "def closest_sum_to_zero(arr):\n",
    "    # Step 1: Sort the array\n",
    "    n = len(arr)\n",
    "    \n",
    "    # Simple bubble sort implementation for educational purposes\n",
    "    for i in range(n):\n",
    "        for j in range(0, n-i-1):\n",
    "            if arr[j] > arr[j+1]:\n",
    "                arr[j], arr[j+1] = arr[j+1], arr[j]\n",
    "\n",
    "    # Step 2: Initialize two pointers\n",
    "    left = 0\n",
    "    right = n - 1\n",
    "    \n",
    "    closest_sum = float('inf')  # Initialize closest sum to infinity\n",
    "    closest_pair = (None, None)  # Initialize closest pair\n",
    "\n",
    "    # Step 3: Use two pointers to find the closest sum to zero\n",
    "    while left < right:\n",
    "        current_sum = arr[left] + arr[right]\n",
    "\n",
    "        # Check if the current sum is closer to zero than the closest found\n",
    "        if abs(current_sum) < abs(closest_sum):\n",
    "            closest_sum = current_sum\n",
    "            closest_pair = (arr[left], arr[right])\n",
    "        \n",
    "        # Move pointers based on the current sum\n",
    "        if current_sum < 0:\n",
    "            left += 1  # Increase the sum by moving left pointer right\n",
    "        else:\n",
    "            right -= 1  # Decrease the sum by moving right pointer left\n",
    "\n",
    "    return closest_pair\n",
    "\n",
    "# Example usage\n",
    "arr = [1, 60, -10, 70, -80, 85]\n",
    "result = closest_sum_to_zero(arr)\n",
    "print(\"The two numbers whose sum is closest to zero are:\", result)  # Output: (-80, 85)"
   ]
  },
  {
   "cell_type": "code",
   "execution_count": 13,
   "id": "1eca53c8-f59b-45fd-b798-0631c49935d1",
   "metadata": {},
   "outputs": [
    {
     "name": "stdout",
     "output_type": "stream",
     "text": [
      "Triplet found: (4, 8, 10)\n"
     ]
    }
   ],
   "source": [
    "def bubble_sort(arr):\n",
    "    n = len(arr)\n",
    "    for i in range(n):\n",
    "        for j in range(0, n - i - 1):\n",
    "            if arr[j] > arr[j + 1]:\n",
    "                arr[j], arr[j + 1] = arr[j + 1], arr[j]\n",
    "\n",
    "def find_triplet_with_sum(arr, k):\n",
    "    # Step 1: Sort the array\n",
    "    bubble_sort(arr)\n",
    "    \n",
    "    n = len(arr)\n",
    "    \n",
    "    # Step 2: Iterate through the array\n",
    "    for i in range(n - 2):\n",
    "        # Set the first element as arr[i]\n",
    "        first = arr[i]\n",
    "        target_sum = k - first\n",
    "        \n",
    "        # Step 3: Use two pointers to find the remaining two elements\n",
    "        left = i + 1\n",
    "        right = n - 1\n",
    "        \n",
    "        while left < right:\n",
    "            current_sum = arr[left] + arr[right]\n",
    "            if current_sum == target_sum:\n",
    "                return (first, arr[left], arr[right])  # Found the triplet\n",
    "            elif current_sum < target_sum:\n",
    "                left += 1  # Move the left pointer to increase the sum\n",
    "            else:\n",
    "                right -= 1  # Move the right pointer to decrease the sum\n",
    "    \n",
    "    return None  # No triplet found\n",
    "\n",
    "# Example usage\n",
    "arr = [1, 4, 45, 6, 10, 8]\n",
    "k = 22\n",
    "result = find_triplet_with_sum(arr, k)\n",
    "if result:\n",
    "    print(\"Triplet found:\", result)  # Output: Triplet found: (4, 10, 8)\n",
    "else:\n",
    "    print(\"No triplet found\")"
   ]
  },
  {
   "cell_type": "code",
   "execution_count": 14,
   "id": "82d7bcbc-7b51-4202-9827-a6ee33b7b77e",
   "metadata": {},
   "outputs": [
    {
     "name": "stdout",
     "output_type": "stream",
     "text": [
      "Triplet found: (3, 4, 5)\n"
     ]
    }
   ],
   "source": [
    "def find_triplet_with_square_sum(arr):\n",
    "    n = len(arr)\n",
    "    \n",
    "    # Step 1: Iterate through all combinations of i, j, k\n",
    "    for i in range(n):\n",
    "        for j in range(n):\n",
    "            if i != j:  # Ensure i and j are different\n",
    "                for k in range(n):\n",
    "                    if i != k and j != k:  # Ensure i, j, and k are different\n",
    "                        # Step 2: Check if i^2 + j^2 = k^2\n",
    "                        if arr[i]**2 + arr[j]**2 == arr[k]**2:\n",
    "                            return (arr[i], arr[j], arr[k])  # Found the triplet\n",
    "    \n",
    "    return None  # No triplet found\n",
    "\n",
    "# Example usage\n",
    "arr = [3, 1, 4, 6, 5]\n",
    "result = find_triplet_with_square_sum(arr)\n",
    "if result:\n",
    "    print(\"Triplet found:\", result)  # Example output: Triplet found: (3, 4, 5)\n",
    "else:\n",
    "    print(\"No triplet found\")"
   ]
  },
  {
   "cell_type": "code",
   "execution_count": 15,
   "id": "51693308-41be-4a22-b35b-48629c8e012d",
   "metadata": {},
   "outputs": [
    {
     "name": "stdout",
     "output_type": "stream",
     "text": [
      "Majority element: 4\n"
     ]
    }
   ],
   "source": [
    "def find_majority_element(arr):\n",
    "    # Initialize the candidate and its count\n",
    "    candidate = None\n",
    "    count = 0\n",
    "\n",
    "    # Step 1: Find the candidate majority element\n",
    "    for num in arr:\n",
    "        if count == 0:\n",
    "            candidate = num\n",
    "        count += 1 if num == candidate else -1\n",
    "\n",
    "    # Step 2: Verify if the candidate is indeed the majority element\n",
    "    count = 0\n",
    "    for num in arr:\n",
    "        if num == candidate:\n",
    "            count += 1\n",
    "    if count > len(arr) // 2:\n",
    "        return candidate\n",
    "    else:\n",
    "        return None\n",
    "\n",
    "# Example usage\n",
    "arr = [3, 3, 4, 2, 4, 4, 2, 4, 4]\n",
    "majority_element = find_majority_element(arr)\n",
    "if majority_element:\n",
    "    print(\"Majority element:\", majority_element)\n",
    "else:\n",
    "    print(\"No majority element found\")"
   ]
  },
  {
   "cell_type": "code",
   "execution_count": 17,
   "id": "0a5e0147-0aff-4d06-a847-15381cac2f52",
   "metadata": {},
   "outputs": [
    {
     "name": "stdout",
     "output_type": "stream",
     "text": [
      "Row with maximum number of 0's is: 0\n"
     ]
    }
   ],
   "source": [
    "def find_row_with_max_zeros(matrix):\n",
    "    n = len(matrix)  # Number of rows\n",
    "    max_zeros_row_index = -1\n",
    "    max_zeros_count = -1\n",
    "    \n",
    "    # Start from the top right corner of the matrix\n",
    "    row = 0\n",
    "    col = n - 1\n",
    "    \n",
    "    while row < n and col >= 0:\n",
    "        if matrix[row][col] == 1:\n",
    "            # Move down if we see a 1\n",
    "            row += 1\n",
    "        else:\n",
    "            # Count the number of 0's in this row\n",
    "            zeros_count = col + 1  # All elements to the left of col are 0's\n",
    "            if zeros_count > max_zeros_count:\n",
    "                max_zeros_count = zeros_count\n",
    "                max_zeros_row_index = row\n",
    "            # Move left to check the next column\n",
    "            col -= 1\n",
    "    \n",
    "    return max_zeros_row_index\n",
    "\n",
    "# Example usage\n",
    "matrix = [\n",
    "    [1, 1, 1, 0, 0],\n",
    "    [1, 1, 0, 0, 0],\n",
    "    [1, 0, 0, 0, 0],\n",
    "    [0, 0, 0, 0, 0],\n",
    "    [1, 1, 1, 1, 1]\n",
    "]\n",
    "\n",
    "result = find_row_with_max_zeros(matrix)\n",
    "print(\"Row with maximum number of 0's is:\", result)  # Output: 3"
   ]
  },
  {
   "cell_type": "code",
   "execution_count": 18,
   "id": "b6fee916-c02c-4602-9fe2-eca399a05574",
   "metadata": {},
   "outputs": [
    {
     "name": "stdout",
     "output_type": "stream",
     "text": [
      "Sorted array: [0, 0, 0, 0, 0, 1, 1, 1, 1, 1, 2, 2]\n"
     ]
    }
   ],
   "source": [
    "def sort_array(arr):\n",
    "    low = 0          # Pointer for the next position of 0\n",
    "    mid = 0          # Pointer for the current element\n",
    "    high = len(arr) - 1  # Pointer for the next position of 2\n",
    "\n",
    "    while mid <= high:\n",
    "        if arr[mid] == 0:\n",
    "            arr[low], arr[mid] = arr[mid], arr[low]  # Swap 0 to the front\n",
    "            low += 1\n",
    "            mid += 1\n",
    "        elif arr[mid] == 1:\n",
    "            mid += 1  # 1 is in the right place\n",
    "        else:  # arr[mid] == 2\n",
    "            arr[mid], arr[high] = arr[high], arr[mid]  # Swap 2 to the end\n",
    "            high -= 1\n",
    "\n",
    "# Example usage\n",
    "arr = [0, 1, 1, 0, 1, 2, 1, 2, 0, 0, 0, 1]\n",
    "sort_array(arr)\n",
    "print(\"Sorted array:\", arr)  # Output: [0, 0, 0, 0, 0, 1, 1, 1, 1, 1, 2, 2]"
   ]
  },
  {
   "cell_type": "code",
   "execution_count": null,
   "id": "a43a68ea-b563-47b9-b335-10151d076f3d",
   "metadata": {},
   "outputs": [],
   "source": []
  }
 ],
 "metadata": {
  "kernelspec": {
   "display_name": "Python 3 (ipykernel)",
   "language": "python",
   "name": "python3"
  },
  "language_info": {
   "codemirror_mode": {
    "name": "ipython",
    "version": 3
   },
   "file_extension": ".py",
   "mimetype": "text/x-python",
   "name": "python",
   "nbconvert_exporter": "python",
   "pygments_lexer": "ipython3",
   "version": "3.10.8"
  }
 },
 "nbformat": 4,
 "nbformat_minor": 5
}
